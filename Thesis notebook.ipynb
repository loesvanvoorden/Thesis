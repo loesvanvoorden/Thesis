{
 "cells": [
  {
   "cell_type": "code",
   "execution_count": 1,
   "id": "474b77c3-fb0d-41d4-88fa-4e9ba4ea32e8",
   "metadata": {},
   "outputs": [
    {
     "name": "stderr",
     "output_type": "stream",
     "text": [
      "/opt/anaconda3/lib/python3.9/site-packages/scipy/__init__.py:146: UserWarning: A NumPy version >=1.16.5 and <1.23.0 is required for this version of SciPy (detected version 1.23.5\n",
      "  warnings.warn(f\"A NumPy version >={np_minversion} and <{np_maxversion}\"\n"
     ]
    }
   ],
   "source": [
    "# packages\n",
    "\n",
    "import os\n",
    "import numpy as np\n",
    "import nibabel as nib\n",
    "import pandas as pd\n",
    "from nibabel.testing import data_path\n",
    "import matplotlib.pyplot as plt\n",
    "from sklearn.model_selection import train_test_split\n",
    "from sklearn.neighbors import KNeighborsClassifier\n",
    "from sklearn.model_selection import cross_validate\n",
    "from sklearn import svm"
   ]
  },
  {
   "cell_type": "code",
   "execution_count": 2,
   "id": "bda2fcb1-e8c8-4b38-81db-344b28185eb3",
   "metadata": {},
   "outputs": [],
   "source": [
    "# defining path\n",
    "\n",
    "dataset = 'OAS2_RAW_PART1/'\n",
    "excel_file = pd.read_excel('oasis_longitudinal_demographics.xlsx')"
   ]
  },
  {
   "cell_type": "code",
   "execution_count": 3,
   "id": "01ab1b69",
   "metadata": {},
   "outputs": [],
   "source": [
    "# defining different shapes for the images\n",
    "\n",
    "full = pd.IndexSlice[:, :, :, 0]\n",
    "half = pd.IndexSlice[::2, ::2, ::2, 0]\n",
    "fourth = pd.IndexSlice[::4, ::4, ::4, 0]\n",
    "eigth = pd.IndexSlice[::8, ::8, ::8, 0]\n",
    "sixteenth = pd.IndexSlice[::16, ::16, ::16, 0]\n",
    "\n",
    "full_shape = (256*256*128)\n",
    "half_shape = (128*128*64)\n",
    "fourth_shape = (64*64*32)\n",
    "eigth_shape = (32*32*16)\n",
    "sixteenth_shape = (16*16*8)"
   ]
  },
  {
   "attachments": {},
   "cell_type": "markdown",
   "id": "e0917d13",
   "metadata": {},
   "source": [
    "### Preprocessing"
   ]
  },
  {
   "cell_type": "code",
   "execution_count": 4,
   "id": "94d13f3b-a5c2-4efa-b007-d6b2b78db515",
   "metadata": {},
   "outputs": [],
   "source": [
    "# opening reference excel file\n",
    "\n",
    "data = pd.DataFrame(excel_file)\n",
    "data.insert(15, 'Images', '')\n",
    "data.insert(16, 'Cropped_1', '')\n",
    "data.insert(17, 'Cropped_2', '')\n",
    "data.insert(18, 'Cropped_3', '')\n",
    "data.insert(19, 'Cropped_4', '')\n",
    "data.insert(20, 'Cropped_5', '')\n",
    "data.insert(21, 'Cropped_6', '')\n",
    "data.insert(22, 'Cropped_7', '')\n",
    "data.insert(23, 'Cropped_8', '')\n",
    "\n",
    "# adding each (feature-reduced) image to the dataframe\n",
    "for index, row in data.iterrows():\n",
    "    for image in os.scandir(dataset+row['MRI ID']+'/RAW'):\n",
    "        if image.name.endswith('img'):\n",
    "            img = nib.load(image)\n",
    "            data.at[index, 'Images'] = img.get_fdata()[fourth] # feature reduction\n",
    "        # break because memory gets too large if every picture is added\n",
    "        break"
   ]
  },
  {
   "cell_type": "code",
   "execution_count": 5,
   "id": "7d4c82a1-6402-4482-929c-caca1ceb675e",
   "metadata": {},
   "outputs": [
    {
     "name": "stdout",
     "output_type": "stream",
     "text": [
      "<class 'pandas.core.frame.DataFrame'>\n",
      "RangeIndex: 373 entries, 0 to 372\n",
      "Data columns (total 24 columns):\n",
      " #   Column      Non-Null Count  Dtype  \n",
      "---  ------      --------------  -----  \n",
      " 0   Subject ID  373 non-null    object \n",
      " 1   MRI ID      373 non-null    object \n",
      " 2   Group       373 non-null    object \n",
      " 3   Visit       373 non-null    int64  \n",
      " 4   MR Delay    373 non-null    int64  \n",
      " 5   M/F         373 non-null    object \n",
      " 6   Hand        373 non-null    object \n",
      " 7   Age         373 non-null    int64  \n",
      " 8   EDUC        373 non-null    int64  \n",
      " 9   SES         354 non-null    float64\n",
      " 10  MMSE        371 non-null    float64\n",
      " 11  CDR         373 non-null    float64\n",
      " 12  eTIV        373 non-null    float64\n",
      " 13  nWBV        373 non-null    float64\n",
      " 14  ASF         373 non-null    float64\n",
      " 15  Images      373 non-null    object \n",
      " 16  Cropped_1   373 non-null    object \n",
      " 17  Cropped_2   373 non-null    object \n",
      " 18  Cropped_3   373 non-null    object \n",
      " 19  Cropped_4   373 non-null    object \n",
      " 20  Cropped_5   373 non-null    object \n",
      " 21  Cropped_6   373 non-null    object \n",
      " 22  Cropped_7   373 non-null    object \n",
      " 23  Cropped_8   373 non-null    object \n",
      "dtypes: float64(6), int64(4), object(14)\n",
      "memory usage: 70.1+ KB\n",
      "None\n"
     ]
    },
    {
     "data": {
      "image/png": "[encoded data removed]",
      "text/plain": [
       "<Figure size 640x480 with 1 Axes>"
      ]
     },
     "metadata": {},
     "output_type": "display_data"
    }
   ],
   "source": [
    "# info of put-together dataframe\n",
    "print(data.info())\n",
    "\n",
    "# how the first image, of the first visit, of the first patient is plotted:\n",
    "plt.imshow(data.iloc[0]['Images'][:, 32, :])\n",
    "plt.title(f\"{data.iloc[0]['Subject ID']}, visit {data.iloc[0]['Visit']}, label = {data.iloc[0]['Group']}\")\n",
    "plt.axis('off')\n",
    "plt.show()"
   ]
  },
  {
   "cell_type": "code",
   "execution_count": 6,
   "id": "87e82578-73a5-4117-bb02-239ac83f79c3",
   "metadata": {},
   "outputs": [],
   "source": [
    "# cropping images and adding to data, full shape = (64, 64, 32)\n",
    "\n",
    "for index, row in data.iterrows():\n",
    "                                  \n",
    "    img1 = data.iloc[index]['Images'][32:65, 0:32, 16:33]\n",
    "    data.at[index, 'Cropped_1'] = img1\n",
    "                                   \n",
    "    img2 = data.iloc[index]['Images'][32:65, 32:65, 0:16]\n",
    "    data.at[index, 'Cropped_2'] = img2\n",
    "                                    \n",
    "    img3 = data.iloc[index]['Images'][32:65, 32:65, 16:33]\n",
    "    data.at[index, 'Cropped_3'] = img3\n",
    "    \n",
    "    img4 = data.iloc[index]['Images'][0:32, 32:65, 0:16]\n",
    "    data.at[index, 'Cropped_4'] = img4\n",
    "                     \n",
    "    img5 = data.iloc[index]['Images'][0:32, 0:32, 16:33]\n",
    "    data.at[index, 'Cropped_5'] = img5\n",
    "                                   \n",
    "    img6 = data.iloc[index]['Images'][0:32, 0:32, 0:16]\n",
    "    data.at[index, 'Cropped_6'] = img6\n",
    "    \n",
    "    img7 = data.iloc[index]['Images'][32:65, 0:32, 0:16]\n",
    "    data.at[index, 'Cropped_7'] = img7\n",
    "               \n",
    "    img8 = data.iloc[index]['Images'][0:32, 32:65, 16:33]\n",
    "    data.at[index, 'Cropped_8'] = img8"
   ]
  },
  {
   "cell_type": "code",
   "execution_count": 7,
   "id": "30b8fb21",
   "metadata": {},
   "outputs": [
    {
     "data": {
      "image/png": "[encoded data removed]",
      "text/plain": [
       "<Figure size 2000x2000 with 8 Axes>"
      ]
     },
     "metadata": {},
     "output_type": "display_data"
    }
   ],
   "source": [
    "# visualization of different cropped dimensions\n",
    "\n",
    "indeces = [16, 17, 18, 19, 20, 21, 22, 23]\n",
    "fig, axes = plt.subplots(1, 8, figsize=(20,20))\n",
    "\n",
    "for ax, index in zip(axes, indeces):\n",
    "    ax.imshow(data.iloc[0][index][:, 16, :])\n",
    "    ax.axis('off')\n",
    "    ax.title.set_text(data.columns[index])\n",
    "fig.tight_layout()\n",
    "fig.suptitle('Different cropped images based on the first visit of the first patient', y=0.65, fontsize=20)\n",
    "plt.show()"
   ]
  },
  {
   "attachments": {},
   "cell_type": "markdown",
   "id": "89130f1e",
   "metadata": {},
   "source": [
    "### Full sized images classification"
   ]
  },
  {
   "cell_type": "code",
   "execution_count": 8,
   "id": "d0af47c6-bc46-417a-8148-0aac843e00be",
   "metadata": {},
   "outputs": [
    {
     "name": "stderr",
     "output_type": "stream",
     "text": [
      "/opt/anaconda3/lib/python3.9/site-packages/scipy/__init__.py:146: UserWarning: A NumPy version >=1.16.5 and <1.23.0 is required for this version of SciPy (detected version 1.23.5\n",
      "  warnings.warn(f\"A NumPy version >={np_minversion} and <{np_maxversion}\"\n",
      "/opt/anaconda3/lib/python3.9/site-packages/scipy/__init__.py:146: UserWarning: A NumPy version >=1.16.5 and <1.23.0 is required for this version of SciPy (detected version 1.23.5\n",
      "  warnings.warn(f\"A NumPy version >={np_minversion} and <{np_maxversion}\"\n",
      "/opt/anaconda3/lib/python3.9/site-packages/scipy/__init__.py:146: UserWarning: A NumPy version >=1.16.5 and <1.23.0 is required for this version of SciPy (detected version 1.23.5\n",
      "  warnings.warn(f\"A NumPy version >={np_minversion} and <{np_maxversion}\"\n"
     ]
    }
   ],
   "source": [
    "# full-sized images \n",
    "\n",
    "from sklearn.model_selection import train_test_split\n",
    "from sklearn import utils\n",
    "\n",
    "# converting to numpy because that is easier for algorithms\n",
    "data_num = pd.DataFrame(data).to_numpy()\n",
    "\n",
    "# defining images and target\n",
    "for i in range(len(data_num[:, 15])):\n",
    "    data_num[:, 15][i] = data_num[:, 15][i].reshape(fourth_shape)\n",
    "    \n",
    "X = data_num[:, 15]\n",
    "# stacking so it gets the shape (373, 13702)\n",
    "X = np.stack(X, axis=0)\n",
    "y = data_num[:, 2]\n",
    "\n",
    "# converting strings to integers where 'Nondemented' = 0 and 'Demented' = 1\n",
    "y = np.where(y == 'Nondemented', 0, 1)\n",
    "\n",
    "# KNN implementation for full-sized images\n",
    "\n",
    "# testing for different amounts of neighbors\n",
    "n_neighbors = [1, 3, 5, 7, 9, 11]\n",
    "\n",
    "# cross validation\n",
    "best = {}\n",
    "fp = open(\"CV_scores_KNN_full.txt\", \"a\")\n",
    "for neighbor in n_neighbors:\n",
    "    kNN_dict = cross_validate(KNeighborsClassifier(n_neighbors = neighbor), X, y, cv = 10, n_jobs = 3, return_train_score = True)\n",
    "    kNN_dict.pop('fit_time')\n",
    "    kNN_dict.pop('score_time')\n",
    "    best[neighbor] = max(kNN_dict['test_score'])\n",
    "    fp.write(f\"KNN with {neighbor} neighbors:\\n{kNN_dict}\\n\")\n",
    "fp.write(f\"Best test score is {max(best.values())} with n_neighbor = {max(best, key=best.get)}\\n\")\n",
    "fp.close()\n"
   ]
  },
  {
   "cell_type": "code",
   "execution_count": 9,
   "id": "6210459a-6d3b-4a5f-9ba4-4a7bc46b2216",
   "metadata": {},
   "outputs": [
    {
     "name": "stdout",
     "output_type": "stream",
     "text": [
      "The shape of X is (373, 131072)\n",
      "The shape of y is (373,)\n"
     ]
    }
   ],
   "source": [
    "print(f\"The shape of X is {X.shape}\")\n",
    "print(f\"The shape of y is {y.shape}\")"
   ]
  },
  {
   "cell_type": "code",
   "execution_count": 10,
   "id": "71cdfd6a",
   "metadata": {},
   "outputs": [
    {
     "data": {
      "text/plain": [
       "'\"\"\\n# ratios of data\\ntrain_ratio = 0.80\\ntest_ratio = 0.10\\nvalidation_ratio = 0.10\\n\\n# splitting data manually\\nX_train, X_test, y_train, y_test = train_test_split(X, y, test_size=test_ratio)\\nX_train, X_val, y_train, y_val = train_test_split(X_train, y_train, test_size=validation_ratio/(train_ratio+test_ratio))\\n\\n# creating lists to store scores\\ntraining_scores = {}\\nvalidation_scores = {}\\ntest_scores = {}\\n\\n# KNN for the different neighbors without CV\\nfor neighbor in n_neighbors:\\n    clf = KNeighborsClassifier(n_neighbors = neighbor)\\n    clf.fit(X_train, y_train)\\n    training_scores[neighbor] = clf.score(X_train, y_train)\\n    validation_scores[neighbor] = clf.score(X_val, y_val)\\n    test_scores[neighbor] = clf.score(X_test, y_test)\\n\\n# printing scores\\nfile = open(\"full_scores_KNN_withoutCV.txt\", \"a\")\\nfile.write(f\"training scores are: {training_scores}\\n\")\\nfile.write(f\"validation scores are: {validation_scores}\\n\")\\nfile.write(f\"test scores are: {test_scores}\\n\")\\nfile.write(f\"Best test score is {max(test_scores.values())} with n_neighbor = {max(test_scores, key=test_scores.get)}\\n\\n\")\\nfile.close()\\n'"
      ]
     },
     "execution_count": 10,
     "metadata": {},
     "output_type": "execute_result"
    }
   ],
   "source": [
    "# in case I want to implement KNN without CV\n",
    "\n",
    "\"\"\"\"\"\n",
    "# ratios of data\n",
    "train_ratio = 0.80\n",
    "test_ratio = 0.10\n",
    "validation_ratio = 0.10\n",
    "\n",
    "# splitting data manually\n",
    "X_train, X_test, y_train, y_test = train_test_split(X, y, test_size=test_ratio)\n",
    "X_train, X_val, y_train, y_val = train_test_split(X_train, y_train, test_size=validation_ratio/(train_ratio+test_ratio))\n",
    "\n",
    "# creating lists to store scores\n",
    "training_scores = {}\n",
    "validation_scores = {}\n",
    "test_scores = {}\n",
    "\n",
    "# KNN for the different neighbors without CV\n",
    "for neighbor in n_neighbors:\n",
    "    clf = KNeighborsClassifier(n_neighbors = neighbor)\n",
    "    clf.fit(X_train, y_train)\n",
    "    training_scores[neighbor] = clf.score(X_train, y_train)\n",
    "    validation_scores[neighbor] = clf.score(X_val, y_val)\n",
    "    test_scores[neighbor] = clf.score(X_test, y_test)\n",
    "\n",
    "# printing scores\n",
    "file = open(\"full_scores_KNN_withoutCV.txt\", \"a\")\n",
    "file.write(f\"training scores are: {training_scores}\\n\")\n",
    "file.write(f\"validation scores are: {validation_scores}\\n\")\n",
    "file.write(f\"test scores are: {test_scores}\\n\")\n",
    "file.write(f\"Best test score is {max(test_scores.values())} with n_neighbor = {max(test_scores, key=test_scores.get)}\\n\\n\")\n",
    "file.close()\n",
    "\"\"\"\"\""
   ]
  },
  {
   "cell_type": "code",
   "execution_count": 20,
   "id": "afbf371b",
   "metadata": {},
   "outputs": [
    {
     "name": "stderr",
     "output_type": "stream",
     "text": [
      "/opt/anaconda3/lib/python3.9/site-packages/scipy/__init__.py:146: UserWarning: A NumPy version >=1.16.5 and <1.23.0 is required for this version of SciPy (detected version 1.23.5\n",
      "  warnings.warn(f\"A NumPy version >={np_minversion} and <{np_maxversion}\"\n",
      "/opt/anaconda3/lib/python3.9/site-packages/scipy/__init__.py:146: UserWarning: A NumPy version >=1.16.5 and <1.23.0 is required for this version of SciPy (detected version 1.23.5\n",
      "  warnings.warn(f\"A NumPy version >={np_minversion} and <{np_maxversion}\"\n",
      "/opt/anaconda3/lib/python3.9/site-packages/scipy/__init__.py:146: UserWarning: A NumPy version >=1.16.5 and <1.23.0 is required for this version of SciPy (detected version 1.23.5\n",
      "  warnings.warn(f\"A NumPy version >={np_minversion} and <{np_maxversion}\"\n"
     ]
    }
   ],
   "source": [
    "# SVM implementation for full-sized images\n",
    "\n",
    "C_value = [1, 50, 100]\n",
    "\n",
    "best = {}\n",
    "fp = open(\"CV_scores_SVM_full.txt\", \"a\")\n",
    "for value in C_value:\n",
    "    SVM_dict = cross_validate(svm.SVC(kernel='rbf', C=value), X, y, cv = 10, n_jobs = 3, return_train_score = True)\n",
    "    SVM_dict.pop('fit_time')\n",
    "    SVM_dict.pop('score_time')\n",
    "    best[value] = max(SVM_dict['test_score'])\n",
    "    fp.write(f\"SVM with C = {value}:\\n{SVM_dict}\\n\")\n",
    "fp.write(f\"Best test score is {max(best.values())} with C = {max(best, key=best.get)}\\n\")\n",
    "fp.close()\n",
    "\n",
    "# examine coefficience with SVM"
   ]
  },
  {
   "attachments": {},
   "cell_type": "markdown",
   "id": "a61260de",
   "metadata": {},
   "source": [
    "### Cropped pictures classification"
   ]
  },
  {
   "cell_type": "code",
   "execution_count": 12,
   "id": "cc3cb8c2",
   "metadata": {},
   "outputs": [],
   "source": [
    "# Cropped pictures \n",
    "\n",
    "n_neighbors = [1, 3, 5, 7, 9, 11]\n",
    "C_value = [1, 50, 100]\n",
    "\n",
    "y = data_num[:, 2]\n",
    "# converting strings to integers where 'Nondemented' = 0 and 'Demented' = 1\n",
    "y = np.where(y == 'Nondemented', 0, 1)\n",
    "\n",
    "best_test_KNN = {}\n",
    "best_test_SVM = {}\n",
    "fp = open(\"CV_scores_KNN_cropped.txt\", \"a\")\n",
    "file = open(\"CV_scores_SVM_cropped.txt\", \"a\")\n",
    "\n",
    "# defining images and target for every cropped picture\n",
    "for i in range(16, 24):\n",
    "    for j in range(len(data_num[:, i])):\n",
    "        data_num[:, i][j] = data_num[:, i][j].reshape(32*32*16)\n",
    "    X = data_num[:, i]\n",
    "    # stacking so it gets the shape (373, 16384)\n",
    "    X = np.stack(X, axis=0)\n",
    "  \n",
    "    # cross validation\n",
    "    fp.write(f\"Scores for {data.columns[i]}\\n\")\n",
    "    file.write(f\"Scores for {data.columns[i]}\\n\")\n",
    "\n",
    "    best_KNN = {}\n",
    "    for neighbor in n_neighbors:\n",
    "        kNN_dict = cross_validate(KNeighborsClassifier(n_neighbors = neighbor), X, y, cv = 10, n_jobs = 3, return_train_score = True)\n",
    "        kNN_dict.pop('fit_time')\n",
    "        kNN_dict.pop('score_time')\n",
    "        best_KNN[neighbor] = max(kNN_dict['test_score'])\n",
    "        fp.write(f\"KNN with {neighbor} neighbors:\\n{kNN_dict}\\n\")\n",
    "    best_test_KNN[data.columns[i]] = [max(best_KNN.values()), max(best_KNN, key=best_KNN.get)]\n",
    "\n",
    "    best_SVM = {}\n",
    "    for value in C_value:\n",
    "        SVM_dict = cross_validate(svm.SVC(kernel='rbf', C=value), X, y, cv = 10, n_jobs = 3, return_train_score = True)\n",
    "        SVM_dict.pop('fit_time')\n",
    "        SVM_dict.pop('score_time')\n",
    "        best_SVM[value] = max(SVM_dict['test_score'])\n",
    "        file.write(f\"SVM with C = {value}:\\n{SVM_dict}\\n\")\n",
    "    best_test_SVM[data.columns[i]] = [max(best_SVM.values()), max(best_SVM, key=best_SVM.get)]\n",
    "     \n",
    "    fp.write(\"\\n\")\n",
    "    file.write(\"\\n\")\n",
    "    \n",
    "fp.write(f\"{max(best_test_KNN, key=best_test_KNN.get)} has the best test score ({max(best_test_KNN.values())[0]}) with n_neighbor = {max(best_test_KNN.values())[1]}\")\n",
    "fp.close()\n",
    "file.write(f\"{max(best_test_SVM, key=best_test_SVM.get)} has the best test score ({max(best_test_SVM.values())[0]}) with C = {max(best_test_SVM.values())[1]}\")\n",
    "file.close()\n"
   ]
  },
  {
   "attachments": {},
   "cell_type": "markdown",
   "id": "2aaac547",
   "metadata": {},
   "source": [
    "Findings:\n",
    "\n",
    "- The more clustered, the better the KNN test scores are. Why is this? \n",
    "- Without CV, the scores for the cropped images differ a lot with every iteration. \n",
    "- Should I average on test scores instead of choosing a test score from 1 fold?"
   ]
  },
  {
   "cell_type": "code",
   "execution_count": 13,
   "id": "969d6fa9",
   "metadata": {},
   "outputs": [
    {
     "data": {
      "text/plain": [
       "'\"\"\\n# splitting data manually\\nX_train, X_test, y_train, y_test = train_test_split(X, y, test_size=test_ratio)\\nX_train, X_val, y_train, y_val = train_test_split(X_train, y_train, test_size=validation_ratio/(train_ratio+test_ratio))\\n\\n# inside loop\\n# creating dicts to store scores with neighbors\\n    training_scores = {}\\n    validation_scores = {}\\n    test_scores = {}\\n\\n    # KNN with different settings for n_neighbors\\n    for neighbor in n_neighbors:\\n        clf = KNeighborsClassifier(n_neighbors = neighbor)\\n        clf.fit(X_train, y_train)\\n        training_scores[neighbor] = clf.score(X_train, y_train)\\n        validation_scores[neighbor] = clf.score(X_val, y_val)\\n        test_scores[neighbor] = clf.score(X_test, y_test)\\n\\n    file = open(\"Cropped_scores_KNN_withoutCV.txt\", \"a\")\\n    file.write(f\"Scores for {data.columns[i]}\\n\")\\n    # printing scores\\n    file.write(f\"training scores are: {training_scores}\\n\")\\n    file.write(f\"validation scores are: {validation_scores}\\n\")\\n    file.write(f\"test scores are: {test_scores}\\n\")\\n    file.write(f\"Best test score is {max(test_scores.values())} with n_neighbor = {max(test_scores, key=test_scores.get)}\\n\\n\")\\n    file.close()\\n'"
      ]
     },
     "execution_count": 13,
     "metadata": {},
     "output_type": "execute_result"
    }
   ],
   "source": [
    "# in case I want to implement KNN without CV\n",
    "\n",
    "\"\"\"\"\"\n",
    "# splitting data manually\n",
    "X_train, X_test, y_train, y_test = train_test_split(X, y, test_size=test_ratio)\n",
    "X_train, X_val, y_train, y_val = train_test_split(X_train, y_train, test_size=validation_ratio/(train_ratio+test_ratio))\n",
    "\n",
    "# inside loop\n",
    "# creating dicts to store scores with neighbors\n",
    "    training_scores = {}\n",
    "    validation_scores = {}\n",
    "    test_scores = {}\n",
    "\n",
    "    # KNN with different settings for n_neighbors\n",
    "    for neighbor in n_neighbors:\n",
    "        clf = KNeighborsClassifier(n_neighbors = neighbor)\n",
    "        clf.fit(X_train, y_train)\n",
    "        training_scores[neighbor] = clf.score(X_train, y_train)\n",
    "        validation_scores[neighbor] = clf.score(X_val, y_val)\n",
    "        test_scores[neighbor] = clf.score(X_test, y_test)\n",
    "\n",
    "    file = open(\"Cropped_scores_KNN_withoutCV.txt\", \"a\")\n",
    "    file.write(f\"Scores for {data.columns[i]}\\n\")\n",
    "    # printing scores\n",
    "    file.write(f\"training scores are: {training_scores}\\n\")\n",
    "    file.write(f\"validation scores are: {validation_scores}\\n\")\n",
    "    file.write(f\"test scores are: {test_scores}\\n\")\n",
    "    file.write(f\"Best test score is {max(test_scores.values())} with n_neighbor = {max(test_scores, key=test_scores.get)}\\n\\n\")\n",
    "    file.close()\n",
    "\"\"\"\"\"\n"
   ]
  }
 ],
 "metadata": {
  "kernelspec": {
   "display_name": "Python 3 (ipykernel)",
   "language": "python",
   "name": "python3"
  },
  "language_info": {
   "codemirror_mode": {
    "name": "ipython",
    "version": 3
   },
   "file_extension": ".py",
   "mimetype": "text/x-python",
   "name": "python",
   "nbconvert_exporter": "python",
   "pygments_lexer": "ipython3",
   "version": "3.9.7"
  }
 },
 "nbformat": 4,
 "nbformat_minor": 5
}
